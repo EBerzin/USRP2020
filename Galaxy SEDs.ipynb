{
 "cells": [
  {
   "cell_type": "code",
   "execution_count": 3,
   "metadata": {},
   "outputs": [],
   "source": [
    "#this cell has what you will need to import\n",
    "\n",
    "import numpy as np\n",
    "import matplotlib.pyplot as plt\n",
    "from scipy import optimize as optimise\n",
    "from scipy import signal\n",
    "import re\n",
    "import fnmatch\n",
    "\n",
    "#I use these to loop over the directories\n",
    "import os\n",
    "from pathlib import Path\n",
    "\n",
    "from astropy.io import fits #to read a fits file\n",
    "\n",
    "#I use this package to convert from redshift to year\n",
    "#Renyue implied doing this conversion is trivial\n",
    "#but it is not. I suggest reading up on this\n",
    "#package and then using it.\n",
    "from astropy.cosmology import FlatLambdaCDM\n",
    "cosmo = FlatLambdaCDM(H0=70, Om0=0.272)"
   ]
  },
  {
   "cell_type": "code",
   "execution_count": 4,
   "metadata": {},
   "outputs": [],
   "source": [
    "def read_sun(director):\n",
    "    \n",
    "    \n",
    "    masses=[] \n",
    "    sfrs=[]\n",
    "    metals=[]\n",
    "    ages=[]\n",
    "    \n",
    "    for filename in os.listdir(director):\n",
    "        \n",
    "        if filename.startswith('sun'):\n",
    "            \n",
    "            sfile=director+'/'+filename\n",
    "                    \n",
    "            hdul = fits.open(sfile)\n",
    "            data=hdul[4].data                \n",
    "            hdul.close()\n",
    "                    \n",
    "            #here I calculate the star formation rate as the total\n",
    "            #mass of star particles less than a Myr old\n",
    "            good_age=data['age']<1e6\n",
    "            sfr = sum(data['mass'][good_age])/1e6\n",
    "            \n",
    "            masses.append(np.array(data['mass']))\n",
    "            sfrs.append(sfr)\n",
    "            metals.append(np.array(data['metallicity']))\n",
    "            ages.append(np.array(data['age']))\n",
    "                    \n",
    "\n",
    "    masses=np.array(masses)\n",
    "    sfrs=np.array(sfrs)\n",
    "    metals=np.array(metals)\n",
    "    ages=np.array(ages)\n",
    "    \n",
    "\n",
    "    return masses,sfrs,metals,ages"
   ]
  },
  {
   "cell_type": "code",
   "execution_count": 5,
   "metadata": {},
   "outputs": [],
   "source": [
    "mass,sfr,metals,ages=read_sun('out01461')"
   ]
  },
  {
   "cell_type": "code",
   "execution_count": 6,
   "metadata": {},
   "outputs": [],
   "source": [
    "hdul = fits.open('sb99kroupa4.fits')\n",
    "data = hdul[1].data[0]"
   ]
  },
  {
   "cell_type": "code",
   "execution_count": 7,
   "metadata": {},
   "outputs": [],
   "source": [
    "def plot_mass_hist(galaxy):\n",
    "    max_age = int(max(ages[galaxy]))\n",
    "    digits = len(str(max_age))\n",
    "    max_bin = int(np.ceil(max_age / 10**(digits-1))) * 100\n",
    "    fig = plt.figure()\n",
    "    plt.hist(ages[galaxy], bins = np.arange(max_bin)*1e6, weights = mass[galaxy])\n",
    "    plt.title(\"Histogram of star particles ages in galaxy %i, weighted by mass\" % galaxy)\n",
    "    plt.ylabel(\"Total star particle mass ($M_\\odot$)\")\n",
    "    plt.xlabel(\"Star particle age (years)\")\n",
    "    return fig"
   ]
  },
  {
   "cell_type": "code",
   "execution_count": 8,
   "metadata": {},
   "outputs": [],
   "source": [
    "def calc_mass_hist(galaxy):\n",
    "    max_age = int(max(ages[galaxy]))\n",
    "    digits = len(str(max_age))\n",
    "    max_bin = int(np.ceil(max_age / 10**(digits-1))) * 100\n",
    "    n, bins = np.histogram(ages[galaxy], bins = np.arange(max_bin)*1e6, weights = mass[galaxy])\n",
    "    return n,bins"
   ]
  },
  {
   "cell_type": "code",
   "execution_count": 9,
   "metadata": {},
   "outputs": [
    {
     "data": {
      "image/png": "[encoded data removed]",
      "text/plain": [
       "<Figure size 432x288 with 1 Axes>"
      ]
     },
     "metadata": {
      "needs_background": "light"
     },
     "output_type": "display_data"
    }
   ],
   "source": [
    "#gives the index of the closest array element to the value\n",
    "def find_nearest(array, value):\n",
    "    idx = np.argmin(np.abs(array - value))\n",
    "    return idx\n",
    "\n",
    "#gives the weighting of the star particle in time or metallicity using a logarithmic scaling\n",
    "def logwtg(value, array):\n",
    "    lindex = np.searchsorted(array, value, side='right')-1\n",
    "    weight = np.log(value/array[lindex])/np.log(array[lindex+1]/array[lindex])\n",
    "    return lindex, weight\n",
    "\n",
    "#Finding nearest-neighbour index for each sun's age and metallicity\n",
    "totlogwtsed = np.zeros(len(data['wave'])) #empty array to sum up the SED\n",
    "totlogwtsed = np.array(totlogwtsed, dtype=np.float128)\n",
    "for i in range(len(ages[2])): #for each particle\n",
    "    aindex, aweight = logwtg(ages[2][i], data['tgrid'])#finding the closest values for the age and metallicity\n",
    "    zindex, zweight = logwtg(metals[2][i], data['zgrid'])\n",
    "    wtSED = aweight*(zweight*data['sed'][zindex+1,aindex+1,:]+(1-zweight)*data['sed'][zindex,aindex+1,:])+(1-aweight)*((zweight*data['sed'][zindex+1,aindex,:]+(1-zweight)*data['sed'][zindex,aindex,:]))\n",
    "    massnormSED = wtSED+np.log10(mass[2][i]/1e6) #normalise by star particle mass, in a logarithmic sense\n",
    "    unloggedSED = np.power(10, massnormSED, dtype=np.float128)\n",
    "    totlogwtsed = np.add(totlogwtsed, unloggedSED)\n",
    "\n",
    "plt.plot(data['wave'], totlogwtsed)\n",
    "plt.title(\"Total SED\")\n",
    "plt.xlabel(\"Wavelength\")\n",
    "plt.ylabel(\"Spectral energy density\")\n",
    "plt.xscale('log')\n",
    "plt.yscale('log')"
   ]
  },
  {
   "cell_type": "code",
   "execution_count": 160,
   "metadata": {},
   "outputs": [
    {
     "name": "stdout",
     "output_type": "stream",
     "text": [
      "[0, 4, 8, 113, 118, 135, 141, 351, 360]\n"
     ]
    },
    {
     "data": {
      "text/plain": [
       "array([0.00e+00, 4.00e+06, 8.00e+06, 1.13e+08, 1.18e+08, 1.35e+08,\n",
       "       1.41e+08, 3.51e+08, 3.60e+08])"
      ]
     },
     "execution_count": 160,
     "metadata": {},
     "output_type": "execute_result"
    },
    {
     "data": {
      "image/png": "[encoded data removed]",
      "text/plain": [
       "<Figure size 432x288 with 1 Axes>"
      ]
     },
     "metadata": {
      "needs_background": "light"
     },
     "output_type": "display_data"
    }
   ],
   "source": [
    "def find_peaks(galaxy):\n",
    "    n, bins = calc_mass_hist(galaxy)\n",
    "    peaks = [0]\n",
    "    result = signal.find_peaks(n, height = 0.01 * max(n), width = 1)[0].tolist()\n",
    "    peaks = peaks + result\n",
    "    return peaks, n, bins\n",
    "\n",
    "plot_mass_hist(0)\n",
    "peaks, n, bins = find_peaks(0)\n",
    "\n",
    "print(peaks)\n",
    "\n",
    "bins[peaks]"
   ]
  },
  {
   "cell_type": "code",
   "execution_count": 161,
   "metadata": {},
   "outputs": [
    {
     "name": "stdout",
     "output_type": "stream",
     "text": [
      "[0.00e+00 4.00e+06 8.00e+06 1.13e+08 1.18e+08 1.35e+08 1.41e+08 3.51e+08\n",
      " 3.60e+08]\n"
     ]
    },
    {
     "data": {
      "text/plain": [
       "(1.0, 0.0)"
      ]
     },
     "execution_count": 161,
     "metadata": {},
     "output_type": "execute_result"
    }
   ],
   "source": [
    "peaks, n, bins = find_peaks(0)\n",
    "\n",
    "print(bins[peaks])\n",
    "\n",
    "peakage(1, 0)"
   ]
  },
  {
   "cell_type": "code",
   "execution_count": 162,
   "metadata": {},
   "outputs": [],
   "source": [
    "def peakage(age, galaxy):\n",
    "    peaks, n, bins = find_peaks(galaxy)\n",
    "    peak_years = bins[peaks]\n",
    "    lastpeak = peak_years[np.searchsorted(peak_years, age, side='right')-1]\n",
    "    relage = age-lastpeak\n",
    "    return relage, lastpeak"
   ]
  },
  {
   "cell_type": "code",
   "execution_count": 176,
   "metadata": {},
   "outputs": [],
   "source": [
    "rel_ages = []\n",
    "rel_age_SED = []\n",
    "\n",
    "#try:\n",
    "    #index_value = rel_ages.index(44)\n",
    "#except ValueError:\n",
    "    #index_value = -1\n",
    "#print(index_value)\n",
    "\n",
    "# expected size = 431\n",
    "\n",
    "totrelageSED = np.zeros((210, len(data['wave'])))\n",
    "\n",
    "\n",
    "\n",
    "def find_nearest(array, value):\n",
    "    idx = np.argmin(np.abs(array - value))\n",
    "    return idx\n",
    "\n",
    "#gives the weighting of the star particle in time or metallicity using a logarithmic scaling\n",
    "def logwtg(value, array):\n",
    "    lindex = np.searchsorted(array, value, side='right')-1\n",
    "    weight = np.log(value/array[lindex])/np.log(array[lindex+1]/array[lindex])\n",
    "    return lindex, weight\n",
    "\n",
    "\n",
    "for i in range(len(ages[0])): #for each particle in galaxy 0\n",
    "    aindex, aweight = logwtg(ages[0][i], data['tgrid'])#finding the closest values for the age and metallicity\n",
    "    zindex, zweight = logwtg(metals[0][i], data['zgrid'])\n",
    "    wtSED = aweight*(zweight*data['sed'][zindex+1,aindex+1,:]+(1-zweight)*data['sed'][zindex,aindex+1,:])+(1-aweight)*((zweight*data['sed'][zindex+1,aindex,:]+(1-zweight)*data['sed'][zindex,aindex,:]))\n",
    "    massnormSED = wtSED+np.log10(mass[0][i]/1e6) #normalise by star particle mass, in a logarithmic sense\n",
    "    unloggedSED = np.power(10, massnormSED, dtype=np.float128)\n",
    "        \n",
    "    relage, lastpeak = peakage(ages[0][i],0)\n",
    "    \n",
    "    if (relage < 0):\n",
    "        print(\"whoops\", ages[0][i], relage)\n",
    "    try:\n",
    "        age_index = rel_ages.index(int(relage/1e6))\n",
    "    except ValueError:\n",
    "        age_index = -1\n",
    "    \n",
    "    #age_index = np.where(rel_ages == int(relage/1e6))\n",
    "    #print(int(relage/1e6))\n",
    "    \n",
    "    #print(len(age_index[0]))\n",
    "    if (age_index == -1):\n",
    "        rel_ages.append(int(relage/1e6))\n",
    "        rel_age_SED.append(unloggedSED)\n",
    "    else:\n",
    "        rel_age_SED[age_index] = np.add(rel_age_SED[age_index], unloggedSED)\n",
    "        \n",
    "        \n",
    "    \n",
    "    totrelageSED[int(relage/1e6)] = np.add(totrelageSED[int(relage/1e6)], unloggedSED)\n",
    "    #age_index = np.where(rel_ages_array == int(relage))\n",
    "    #print(age_index[0])\n",
    "    #print(len(age_index[0]))\n",
    "    #if (len(age_index[0]) == 0):\n",
    "        #rel_age_SED.append(unloggedSED)\n",
    "        #rel_ages_array.append(int(relage))\n",
    "    #else:\n",
    "        #rel_age_SED[age_index[0][0]] = np.add(rel_age_SED[age_index[0][0]], unloggedSED)\n",
    "    "
   ]
  },
  {
   "cell_type": "code",
   "execution_count": 178,
   "metadata": {},
   "outputs": [
    {
     "name": "stdout",
     "output_type": "stream",
     "text": [
      "(39, 1221)\n",
      "209\n",
      "[4.83417379e-18 4.83417379e-18 4.83417379e-18 ... 2.77308178e+26\n",
      " 1.50416936e+26 8.81377837e+25]\n",
      "[4.83417379e-18 4.83417379e-18 4.83417379e-18 ... 2.77308178e+26\n",
      " 1.50416936e+26 8.81377837e+25]\n"
     ]
    }
   ],
   "source": [
    "#SED_array = np.array(rel_age_SED)\n",
    "print(np.shape(rel_age_SED))\n",
    "#print(np.nonzero(totrelageSED))\n",
    "#print(totrelageSED[430])\n",
    "#print(rel_ages)\n",
    "\n",
    "count = 0\n",
    "\n",
    "for SED in totrelageSED:\n",
    "    if SED.all():\n",
    "        count+=1\n",
    "\n",
    "print(max(rel_ages))\n",
    "print(totrelageSED[209])\n",
    "print(rel_age_SED[0])"
   ]
  },
  {
   "cell_type": "code",
   "execution_count": 171,
   "metadata": {
    "scrolled": true
   },
   "outputs": [
    {
     "name": "stdout",
     "output_type": "stream",
     "text": [
      "4\n"
     ]
    }
   ],
   "source": []
  },
  {
   "cell_type": "code",
   "execution_count": null,
   "metadata": {},
   "outputs": [],
   "source": []
  },
  {
   "cell_type": "code",
   "execution_count": null,
   "metadata": {},
   "outputs": [],
   "source": []
  }
 ],
 "metadata": {
  "kernelspec": {
   "display_name": "Python 3",
   "language": "python",
   "name": "python3"
  },
  "language_info": {
   "codemirror_mode": {
    "name": "ipython",
    "version": 3
   },
   "file_extension": ".py",
   "mimetype": "text/x-python",
   "name": "python",
   "nbconvert_exporter": "python",
   "pygments_lexer": "ipython3",
   "version": "3.7.7"
  }
 },
 "nbformat": 4,
 "nbformat_minor": 4
}
